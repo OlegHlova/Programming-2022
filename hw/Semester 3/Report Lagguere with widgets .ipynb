{
 "cells": [
  {
   "cell_type": "code",
   "execution_count": 77,
   "id": "0d27e581-fdf0-469d-91aa-3903210ccebc",
   "metadata": {
    "tags": []
   },
   "outputs": [],
   "source": [
    "import numpy as np\n",
    "import matplotlib.pyplot as plt\n",
    "import pandas as pd\n",
    "import ipywidgets as widgets"
   ]
  },
  {
   "cell_type": "code",
   "execution_count": 78,
   "id": "63cd5006-29b7-489a-96eb-7a11c26f62b4",
   "metadata": {
    "tags": []
   },
   "outputs": [],
   "source": [
    "# Task num 1\n",
    "def laguerre(t, n, beta=2, sigma=4):\n",
    "    if beta > sigma or beta < 0:\n",
    "        raise ValueError(\"Incorrect values for beta and sigma.\")\n",
    "\n",
    "    l_0 = np.sqrt(sigma) * (np.exp(-beta * t / 2))\n",
    "    l_1 = np.sqrt(sigma) * (1 - sigma * t) * (np.exp(-beta * t / 2))\n",
    "    \n",
    "    if n == 0:\n",
    "        return l_0\n",
    "    elif n == 1:\n",
    "        return l_1\n",
    "\n",
    "    l_n = (3 - t * sigma) / 2 * l_1 - 0.5 * l_0\n",
    "    for j in range(3, n+1):\n",
    "        l_0 = l_1\n",
    "        l_1 = l_n\n",
    "        l_n = (2 * j - 1 - t * sigma) / j * l_1 - (j - 1) / j * l_0\n",
    "    return l_n"
   ]
  },
  {
   "cell_type": "code",
   "execution_count": 79,
   "id": "8c278274-c530-464d-8eec-8715c317b03b",
   "metadata": {
    "tags": []
   },
   "outputs": [],
   "source": [
    "def calculate_laguerre(n=3, beta=2, sigma=4):\n",
    "    result = laguerre(2, n, beta, sigma)\n",
    "    print(f\"Laguerre Polynomial of order {n} (beta={beta}, sigma={sigma}): {result}\")"
   ]
  },
  {
   "cell_type": "code",
   "execution_count": 80,
   "id": "4b0f620e-8b7e-45de-8b93-141bc7fbf96c",
   "metadata": {
    "tags": []
   },
   "outputs": [
    {
     "data": {
      "application/vnd.jupyter.widget-view+json": {
       "model_id": "b9a5affae383429f938bb75232d61d38",
       "version_major": 2,
       "version_minor": 0
      },
      "text/plain": [
       "interactive(children=(IntSlider(value=3, description='n', max=10), FloatSlider(value=2.0, description='beta', …"
      ]
     },
     "metadata": {},
     "output_type": "display_data"
    },
    {
     "data": {
      "text/plain": [
       "<function __main__.calculate_laguerre(n=3, beta=2, sigma=4)>"
      ]
     },
     "execution_count": 80,
     "metadata": {},
     "output_type": "execute_result"
    }
   ],
   "source": [
    "widgets.interact(calculate_laguerre, n=widgets.IntSlider(min=0, max=10, step=1, value=3),\n",
    "                 beta=widgets.FloatSlider(min=0, max=10, step=0.5, value=2),\n",
    "                 sigma=widgets.FloatSlider(min=0, max=10, step=0.5, value=4))"
   ]
  },
  {
   "cell_type": "code",
   "execution_count": 81,
   "id": "3eee16da-fc0b-4d12-8292-72f53d87733a",
   "metadata": {
    "tags": []
   },
   "outputs": [],
   "source": [
    "# Task num 2\n",
    "def tabulate_laguerre(n, T, beta, sigma):\n",
    "    steps = np.linspace(0, T, 100)\n",
    "    res = laguerre(steps, n, beta,sigma)\n",
    "    res_df = pd.DataFrame({\"tabulate\": steps, \"result\": res})\n",
    "\n",
    "    return res_df"
   ]
  },
  {
   "cell_type": "code",
   "execution_count": 82,
   "id": "579ab0d0-ec5d-4534-9fe9-c28d0a9bfa36",
   "metadata": {
    "tags": []
   },
   "outputs": [
    {
     "data": {
      "application/vnd.jupyter.widget-view+json": {
       "model_id": "1d99bf0705f64b23958385057cb58a17",
       "version_major": 2,
       "version_minor": 0
      },
      "text/plain": [
       "interactive(children=(IntSlider(value=3, description='n', max=10), IntSlider(value=10, description='T', max=20…"
      ]
     },
     "metadata": {},
     "output_type": "display_data"
    },
    {
     "data": {
      "text/plain": [
       "<function __main__.calculate_and_display_table(n=3, T=10, beta=2, sigma=4)>"
      ]
     },
     "execution_count": 82,
     "metadata": {},
     "output_type": "execute_result"
    }
   ],
   "source": [
    "def calculate_and_display_table(n=3, T=10, beta=2, sigma=4):\n",
    "    result_dataframe = tabulate_laguerre(n, T, beta, sigma)\n",
    "    display(result_dataframe)\n",
    "\n",
    "widgets.interact(calculate_and_display_table, \n",
    "                 n=widgets.IntSlider(min=0, max=10, step=1, value=3),\n",
    "                 T=widgets.IntSlider(min=1, max=20, step=1, value=10),\n",
    "                 beta=widgets.FloatSlider(min=0, max=10, step=0.5, value=2),\n",
    "                 sigma=widgets.FloatSlider(min=0, max=10, step=0.5, value=4))"
   ]
  },
  {
   "cell_type": "code",
   "execution_count": 83,
   "id": "f6b098b2-16b7-40bb-9437-b6489d924e6b",
   "metadata": {
    "tags": []
   },
   "outputs": [],
   "source": [
    "# Task num 3\n",
    "def experiment(beta=2, sigma=4, eps=0.001):\n",
    "    N = 20\n",
    "    t = 0\n",
    "    while True:\n",
    "        t += 0.001\n",
    "        res = []\n",
    "        flag = True\n",
    "        for i in range(N):\n",
    "            val = abs(laguerre(t, i, beta, sigma))\n",
    "            if val > eps:\n",
    "                flag = False\n",
    "                break\n",
    "            res.append(val)\n",
    "        if flag:\n",
    "            return t, pd.DataFrame({\"n\": range(N), \"result\": res})"
   ]
  },
  {
   "cell_type": "code",
   "execution_count": 84,
   "id": "cd33ae83-adf9-4a2e-a1f7-0064bb4b3e4c",
   "metadata": {
    "tags": []
   },
   "outputs": [
    {
     "data": {
      "application/vnd.jupyter.widget-view+json": {
       "model_id": "90b40df014224185bc3e0bf1c62c4684",
       "version_major": 2,
       "version_minor": 0
      },
      "text/plain": [
       "interactive(children=(FloatSlider(value=2.0, description='beta', max=10.0, step=0.5), FloatSlider(value=4.0, d…"
      ]
     },
     "metadata": {},
     "output_type": "display_data"
    },
    {
     "data": {
      "text/plain": [
       "<function __main__.run_experiment(beta=2, sigma=4, eps=0.001)>"
      ]
     },
     "execution_count": 84,
     "metadata": {},
     "output_type": "execute_result"
    }
   ],
   "source": [
    "def run_experiment(beta=2, sigma=4, eps=0.001):\n",
    "    result, df = experiment(beta, sigma, eps)\n",
    "    print(f\"Our Value t: {result}\")\n",
    "    display(df)\n",
    "\n",
    "widgets.interact(run_experiment, \n",
    "                 beta=widgets.FloatSlider(min=0, max=10, step=0.5, value=2),\n",
    "                 sigma=widgets.FloatSlider(min=0, max=10, step=0.5, value=4),\n",
    "                 eps=widgets.FloatSlider(min=0, max=0.1, step=0.001, value=0.001))"
   ]
  },
  {
   "cell_type": "code",
   "execution_count": 85,
   "id": "83850ca1-1133-4859-a035-07d8c4e91101",
   "metadata": {
    "tags": []
   },
   "outputs": [],
   "source": [
    "# Task num 4\n",
    "def rects_integral(f, T, N=100):\n",
    "    step = T / N\n",
    "    integral = 0\n",
    "    \n",
    "    for i in range(N):\n",
    "        t = i * step\n",
    "        integral += f(t) * step\n",
    "    return integral"
   ]
  },
  {
   "cell_type": "code",
   "execution_count": 86,
   "id": "cb30c2ae-a113-4004-b648-9371d6ec63d8",
   "metadata": {
    "tags": []
   },
   "outputs": [
    {
     "data": {
      "application/vnd.jupyter.widget-view+json": {
       "model_id": "490e125f0835432b9645ac7c03189837",
       "version_major": 2,
       "version_minor": 0
      },
      "text/plain": [
       "interactive(children=(FloatSlider(value=10.0, description='T', min=1.0, step=1.0), IntSlider(value=100, descri…"
      ]
     },
     "metadata": {},
     "output_type": "display_data"
    },
    {
     "data": {
      "text/plain": [
       "<function __main__.calculate_integral(T, N)>"
      ]
     },
     "execution_count": 86,
     "metadata": {},
     "output_type": "execute_result"
    }
   ],
   "source": [
    "def calculate_integral(T, N):\n",
    "    f = lambda t: np.exp(-2*t**3/3)\n",
    "    result = rects_integral(f, T, N)\n",
    "    print(f\"Integral for T={T} and N={N}: {result}\")\n",
    "\n",
    "widgets.interact(calculate_integral, \n",
    "                 T=widgets.FloatSlider(min=1, max=100, step=1, value=10),\n",
    "                 N=widgets.IntSlider(min=10, max=1000, step=10, value=100))"
   ]
  },
  {
   "cell_type": "code",
   "execution_count": 91,
   "id": "8a57f560-816d-492c-9f34-6f5d7c525d43",
   "metadata": {
    "tags": []
   },
   "outputs": [],
   "source": [
    "# Task num 5\n",
    "def laguerre_transformation(f, n, T, beta=2, sigma=4):\n",
    "    alpha = beta - sigma\n",
    "    integrand = lambda t: f(t) * laguerre(t, n) * np.exp(-t*alpha)\n",
    "    result = rects_integral(integrand, T)\n",
    "    return result"
   ]
  },
  {
   "cell_type": "code",
   "execution_count": 92,
   "id": "9d4f46c5-62ec-4882-8c4d-3dfb7508ddcb",
   "metadata": {
    "tags": []
   },
   "outputs": [],
   "source": [
    "def f(t):\n",
    "    if 0 <= t <= 2 * np.pi:\n",
    "         return np.sin(t - np.pi / 2) + 1\n",
    "    elif t > 2 * np.pi:\n",
    "        return 0"
   ]
  },
  {
   "cell_type": "code",
   "execution_count": 93,
   "id": "869b9376-17d2-49a8-a943-7de6adf6f96d",
   "metadata": {
    "tags": []
   },
   "outputs": [],
   "source": [
    "def tab_transformation(f, T, N=20, beta=2, sigma=4):\n",
    "    t = range(1, N+1)\n",
    "    results = [laguerre_transformation(f, n, T, beta, sigma) for n in t]\n",
    "    return results"
   ]
  },
  {
   "cell_type": "code",
   "execution_count": 94,
   "id": "d40576eb-deb1-43b5-b64c-b80688c05e51",
   "metadata": {
    "tags": []
   },
   "outputs": [],
   "source": [
    "def calculate_tab_transformation(T, N, beta, sigma):\n",
    "    results = tab_transformation(f, T, N, beta, sigma)\n",
    "    print(\"Results for each n:\")\n",
    "    for n, res in enumerate(results, 1):\n",
    "        print(f\"n={n}: {res}\")"
   ]
  },
  {
   "cell_type": "code",
   "execution_count": 95,
   "id": "00f245f0-5482-474e-838c-11021e7ec309",
   "metadata": {
    "tags": []
   },
   "outputs": [
    {
     "data": {
      "application/vnd.jupyter.widget-view+json": {
       "model_id": "4b969f1fcc194057b11d18b8c1b64205",
       "version_major": 2,
       "version_minor": 0
      },
      "text/plain": [
       "interactive(children=(FloatSlider(value=100.0, description='T', min=1.0, step=1.0), IntSlider(value=20, descri…"
      ]
     },
     "metadata": {},
     "output_type": "display_data"
    },
    {
     "data": {
      "text/plain": [
       "<function __main__.calculate_tab_transformation(T, N, beta, sigma)>"
      ]
     },
     "execution_count": 95,
     "metadata": {},
     "output_type": "execute_result"
    }
   ],
   "source": [
    "widgets.interact(calculate_tab_transformation, \n",
    "                 T=widgets.FloatSlider(min=1, max=100, step=1, value=100),\n",
    "                 N=widgets.IntSlider(min=5, max=50, step=5, value=20),\n",
    "                 beta=widgets.FloatSlider(min=0, max=10, step=0.5, value=2),\n",
    "                 sigma=widgets.FloatSlider(min=0, max=10, step=0.5, value=4))"
   ]
  },
  {
   "cell_type": "code",
   "execution_count": 145,
   "id": "3950d4f5-ab2f-4551-adde-cb1591a370d6",
   "metadata": {
    "tags": []
   },
   "outputs": [],
   "source": [
    "# Task num 6\n",
    "def reverse_laguerre_transformation_widget(coefficients_list, t, beta=2, sigma=4):\n",
    "    result = reverse_laguerre_transformation(coefficients_list, t, beta, sigma)\n",
    "    print(f\"Result of reverse transformation at\\n \\nt={t}: {result}\")"
   ]
  },
  {
   "cell_type": "code",
   "execution_count": 146,
   "id": "8ee55a3c-67f2-4b53-94ac-d73f558a0237",
   "metadata": {
    "tags": []
   },
   "outputs": [],
   "source": [
    "# Example coefficients list\n",
    "coefficients = [1, 2, 3, 4, 5, 6, 7, 8, 9, 10]"
   ]
  },
  {
   "cell_type": "code",
   "execution_count": 147,
   "id": "dc817c6a-cac5-4d32-880c-2bd945eefa71",
   "metadata": {
    "tags": []
   },
   "outputs": [
    {
     "data": {
      "application/vnd.jupyter.widget-view+json": {
       "model_id": "8f8c7bdaf32b4597ac02d3d37f3989e7",
       "version_major": 2,
       "version_minor": 0
      },
      "text/plain": [
       "interactive(children=(FloatSlider(value=1.0, description='t', max=10.0, step=0.5), FloatSlider(value=2.0, desc…"
      ]
     },
     "metadata": {},
     "output_type": "display_data"
    },
    {
     "data": {
      "text/plain": [
       "<function __main__.reverse_laguerre_transformation_widget(coefficients_list, t, beta=2, sigma=4)>"
      ]
     },
     "execution_count": 147,
     "metadata": {},
     "output_type": "execute_result"
    }
   ],
   "source": [
    "widgets.interact(reverse_laguerre_transformation_widget,\n",
    "                 coefficients_list=widgets.fixed(coefficients),\n",
    "                 t=widgets.FloatSlider(min=0, max=10, step=0.5, value=1),\n",
    "                 beta=widgets.FloatSlider(min=0, max=10, step=0.5, value=2),\n",
    "                 sigma=widgets.FloatSlider(min=0, max=10, step=0.5, value=4))"
   ]
  },
  {
   "cell_type": "code",
   "execution_count": 96,
   "id": "0d7603fc-3dcc-44ec-b406-e60566402f5b",
   "metadata": {
    "tags": []
   },
   "outputs": [],
   "source": [
    "# Task num 7\n",
    "def plot_laguerre(T, N, beta=2, sigma=4):\n",
    "    fig = plt.figure(figsize=(12, 12))\n",
    "    ax = fig.gca()\n",
    "    for n in range(N+1):\n",
    "        values = tabulate_laguerre(n, T, beta, sigma)\n",
    "        ax.plot(values['tabulate'], values['result'], label=f\"n={n}\")\n",
    "    ax.set_xlabel(\"t\")\n",
    "    ax.set_ylabel(\"l(t)\")\n",
    "    fig.legend(loc='lower center', ncol=4)\n",
    "    plt.show()"
   ]
  },
  {
   "cell_type": "code",
   "execution_count": 97,
   "id": "74d82b66-7ffa-4a1b-a141-bcb693d04d21",
   "metadata": {
    "tags": []
   },
   "outputs": [
    {
     "data": {
      "application/vnd.jupyter.widget-view+json": {
       "model_id": "e82cfad0b9c04ff2b7d6d442c57b6aad",
       "version_major": 2,
       "version_minor": 0
      },
      "text/plain": [
       "interactive(children=(FloatSlider(value=10.0, description='T', min=1.0, step=1.0), IntSlider(value=5, descript…"
      ]
     },
     "metadata": {},
     "output_type": "display_data"
    },
    {
     "data": {
      "text/plain": [
       "<function __main__.plot_laguerre(T, N, beta=2, sigma=4)>"
      ]
     },
     "execution_count": 97,
     "metadata": {},
     "output_type": "execute_result"
    }
   ],
   "source": [
    "widgets.interact(plot_laguerre, \n",
    "                 T=widgets.FloatSlider(min=1, max=100, step=1, value=10),\n",
    "                 N=widgets.IntSlider(min=1, max=20, step=1, value=5),\n",
    "                 beta=widgets.FloatSlider(min=0, max=10, step=0.5, value=2),\n",
    "                 sigma=widgets.FloatSlider(min=0, max=10, step=0.5, value=4))"
   ]
  },
  {
   "cell_type": "code",
   "execution_count": 102,
   "id": "052a986a-0f76-448d-a631-11adc6aace02",
   "metadata": {
    "tags": []
   },
   "outputs": [],
   "source": [
    "# Task num 8\n",
    "def plot_transformation(f, n, T, beta=2, sigma=4):\n",
    "    fig = plt.figure(figsize=(12, 12))\n",
    "    ax = fig.gca()\n",
    "    values = tab_transformation(f, T, n, beta, sigma)\n",
    "    ax.bar(range(1, n+1), values)\n",
    "    ax.set_xlabel(\"n\")\n",
    "    ax.set_ylabel(\"f_n\")\n",
    "    ax.set_title(\"Laguerre-Transformation\")\n",
    "    plt.axhline(0, color='black')\n",
    "    plt.show()"
   ]
  },
  {
   "cell_type": "code",
   "execution_count": 103,
   "id": "9e95c342-ccac-41fc-98de-57c72e1b1606",
   "metadata": {
    "tags": []
   },
   "outputs": [
    {
     "data": {
      "application/vnd.jupyter.widget-view+json": {
       "model_id": "cedc3daf452f4e489682ae6a8a25dff5",
       "version_major": 2,
       "version_minor": 0
      },
      "text/plain": [
       "interactive(children=(FloatSlider(value=10.0, description='T', min=1.0, step=1.0), IntSlider(value=5, descript…"
      ]
     },
     "metadata": {},
     "output_type": "display_data"
    },
    {
     "data": {
      "text/plain": [
       "<function __main__.plot_laguerre(T, N, beta=2, sigma=4)>"
      ]
     },
     "execution_count": 103,
     "metadata": {},
     "output_type": "execute_result"
    }
   ],
   "source": [
    "widgets.interact(plot_laguerre, \n",
    "                 T=widgets.FloatSlider(min=1, max=100, step=1, value=10),\n",
    "                 N=widgets.IntSlider(min=1, max=20, step=1, value=5),\n",
    "                 beta=widgets.FloatSlider(min=0, max=8, step=0.5, value=2),\n",
    "                 sigma=widgets.FloatSlider(min=0, max=8, step=0.5, value=4))"
   ]
  },
  {
   "cell_type": "code",
   "execution_count": 112,
   "id": "f52bf14a-a028-4c1d-8f31-aa60e42fd915",
   "metadata": {},
   "outputs": [],
   "source": [
    "def plot_transformations(f, n, T, beta=2, sigma=4, t1=0, t2=2*np.pi):\n",
    "    transform_values = tab_transformation(f, T, n, beta, sigma)\n",
    "    reversed_transform_values = [reverse_laguerre_transformation(transform_values, t, beta, sigma) for t in np.linspace(t1, t2, 1000)]\n",
    "    \n",
    "    fig, ax = plt.subplots(2, 1, figsize=(10, 10))\n",
    "    \n",
    "    ax[0].bar(range(1, n+1), transform_values, alpha=0.7, edgecolor='black')\n",
    "    ax[0].set_xlabel(\"n\")\n",
    "    ax[0].set_ylabel(\"f_n\")\n",
    "    ax[0].set_title(\"Transformation Coefficients\")\n",
    "    ax[0].set_xticks(range(1, n+1))\n",
    "    ax[0].axhline(0, color='black')\n",
    "    \n",
    "    ax[1].plot(np.linspace(t1, t2, 1000), reversed_transform_values, alpha=0.7, linewidth=2.0)\n",
    "    ax[1].set_xlabel(\"t\")\n",
    "    ax[1].set_ylabel(\"f(t)\")\n",
    "    ax[1].set_title(\"Reversed Transformation\")\n",
    "    \n",
    "    plt.tight_layout()\n",
    "    plt.show()"
   ]
  },
  {
   "cell_type": "code",
   "execution_count": 113,
   "id": "4fdd594b-569b-45c6-bdcd-4223e4bd4d85",
   "metadata": {
    "tags": []
   },
   "outputs": [
    {
     "data": {
      "application/vnd.jupyter.widget-view+json": {
       "model_id": "7e8fa33de05448c985a706fc048900c6",
       "version_major": 2,
       "version_minor": 0
      },
      "text/plain": [
       "interactive(children=(FloatSlider(value=10.0, description='T', min=1.0, step=1.0), IntSlider(value=5, descript…"
      ]
     },
     "metadata": {},
     "output_type": "display_data"
    },
    {
     "data": {
      "text/plain": [
       "<function __main__.plot_laguerre(T, N, beta=2, sigma=4)>"
      ]
     },
     "execution_count": 113,
     "metadata": {},
     "output_type": "execute_result"
    }
   ],
   "source": [
    "widgets.interact(plot_laguerre, \n",
    "                 T=widgets.FloatSlider(min=1, max=100, step=1, value=10),\n",
    "                 N=widgets.IntSlider(min=1, max=20, step=1, value=5),\n",
    "                 beta=widgets.FloatSlider(min=0, max=10, step=0.5, value=2),\n",
    "                 sigma=widgets.FloatSlider(min=0, max=10, step=0.5, value=4))"
   ]
  }
 ],
 "metadata": {
  "kernelspec": {
   "display_name": "Python 3 (ipykernel)",
   "language": "python",
   "name": "python3"
  },
  "language_info": {
   "codemirror_mode": {
    "name": "ipython",
    "version": 3
   },
   "file_extension": ".py",
   "mimetype": "text/x-python",
   "name": "python",
   "nbconvert_exporter": "python",
   "pygments_lexer": "ipython3",
   "version": "3.11.4"
  }
 },
 "nbformat": 4,
 "nbformat_minor": 5
}
