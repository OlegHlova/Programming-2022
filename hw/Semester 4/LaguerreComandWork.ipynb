{
 "cells": [
  {
   "cell_type": "code",
   "execution_count": 1,
   "id": "f140851b-4dff-4773-a681-e0f183986cb7",
   "metadata": {
    "tags": []
   },
   "outputs": [],
   "source": [
    "import numpy as np\n",
    "import pandas as pd\n",
    "import unittest\n",
    "import ipywidgets as widgets\n",
    "import matplotlib.pyplot as plt"
   ]
  },
  {
   "cell_type": "code",
   "execution_count": 2,
   "id": "a8418317-9b8a-454c-83b3-3cc09110ccbb",
   "metadata": {
    "tags": []
   },
   "outputs": [],
   "source": [
    "class Laguerre:\n",
    "    def __init__(self, beta=2, sigma=4):\n",
    "        self._beta = beta\n",
    "        self._sigma = sigma\n",
    "        \n",
    "    @property\n",
    "    def sigma(self):\n",
    "        return self._sigma\n",
    "    \n",
    "    @sigma.setter\n",
    "    def sigma(self, value):\n",
    "        if not isinstance(value, (int, float)):\n",
    "            raise ValueError(\"Sigma must be a number\")\n",
    "        elif self.beta > value:\n",
    "            raise ValueError(\"Sigma must be greater than beta\")\n",
    "        self._sigma = value\n",
    "    \n",
    "    @property\n",
    "    def beta(self):\n",
    "        return self._beta\n",
    "    \n",
    "    @beta.setter\n",
    "    def beta(self, value):\n",
    "        if not isinstance(value, (int, float)):\n",
    "            raise ValueError(\"Beta must be a number\")\n",
    "        elif self.sigma < value:\n",
    "            raise ValueError(\"Beta must be less than sigma\")\n",
    "        self._beta = value\n",
    "\n",
    "    def laguerre(self, t, n):\n",
    "        if self.beta > self.sigma or self.beta < 0:\n",
    "            raise ValueError(\"Wrong beta and omega\")\n",
    "        \n",
    "        l_0 = np.sqrt(self.sigma) * (np.exp(-self.beta * t / 2))\n",
    "        l_1 = np.sqrt(self.sigma) * (1 - self.sigma * t) * (np.exp(-self.beta * t / 2))\n",
    "\n",
    "        if n == 0:\n",
    "            return l_0\n",
    "        elif n == 1:\n",
    "            return l_1\n",
    "        \n",
    "        l_next = (3 - t * self.sigma) / 2 * l_1 - 0.5 * l_0\n",
    "        for j in range(3, n+1):\n",
    "            l_0 = l_1\n",
    "            l_1 = l_next\n",
    "            l_next = (2 * j - 1 - t * self.sigma) / j * l_1 - (j - 1) / j * l_0\n",
    "        return l_next\n",
    "    \n",
    "    def tabulate_laguerre(self, n, T):\n",
    "        steps = np.linspace(0, T, 100)\n",
    "        res = [self.laguerre(t, n) for t in steps]\n",
    "        res_df = pd.DataFrame({\"n\": steps, \"result\": res})\n",
    "        return res_df\n",
    "    \n",
    "    def experiment(self, eps=0.001):\n",
    "        N = 20\n",
    "        t = 0\n",
    "        while True:\n",
    "            t += 0.001\n",
    "            res = []\n",
    "            flag = True\n",
    "            for i in range(N):\n",
    "                val = abs(self.laguerre(t, i))\n",
    "                if val > eps:\n",
    "                    flag = False\n",
    "                    break\n",
    "                res.append(val)\n",
    "            if flag:\n",
    "                return t, pd.DataFrame({\"n\": range(N), \"res\": res})\n",
    "    \n",
    "    def rects_integral(self, f, T, N=1000):\n",
    "        step = T / N\n",
    "        integral = 0\n",
    "        for i in range(N):\n",
    "            t = i * step\n",
    "            integral += f(t) * step\n",
    "        return integral\n",
    "    \n",
    "    # Add function (another type)   \n",
    "    def f(self, t): \n",
    "        return 2 / (2 + t**8)\n",
    "    \n",
    "    def laguerre_transformation(self, f, n, T):\n",
    "        alpha = self.beta - self.sigma\n",
    "        integrand = lambda t: f(t) * self.laguerre(t, n) * np.exp(-t * alpha)\n",
    "        result = self.rects_integral(integrand, T)\n",
    "        return result\n",
    "    \n",
    "    def tab_transformation(self, f, T, N=20):\n",
    "        t = range(1, N+1)\n",
    "        results = [self.laguerre_transformation(f, n, T) for n in t]\n",
    "        return results\n",
    "\n",
    "    def reverse_laguerre_transformation(self, lst, t):\n",
    "        return sum([lst[i] * self.laguerre(t, i) for i in range(len(lst))])\n",
    "    \n",
    "    #Section base on Visualization graphik\n",
    "    \n",
    "    def plot_laguerre(self, T, N):\n",
    "        fig, ax = plt.subplots(figsize=(8, 6))\n",
    "        for n in range(N+1):\n",
    "            values = self.tabulate_laguerre(n, T)\n",
    "            ax.plot(values['n'], values['result'], label=f\"n={n}\", linewidth=2)\n",
    "        \n",
    "        ax.set_xlabel(\"t\")\n",
    "        ax.set_ylabel(\"l(t)\")\n",
    "        fig.legend(loc='lower center', ncol=4)\n",
    "        plt.show()\n",
    "\n",
    "    def plot_transformation(self, f, n, T):\n",
    "        fig, ax = plt.subplots(figsize=(8, 6))\n",
    "        values = self.tab_transformation(f, T, n)\n",
    "        ax.bar(range(1, n+1), values, color='blue', alpha=0.7, edgecolor='black', linewidth=2)\n",
    "\n",
    "        ax.set_xlabel(\"n\")\n",
    "        ax.set_ylabel(\"f_n\")\n",
    "        ax.set_title(\"Laguerre Transformation\")\n",
    "        ax.axhline(0, color='black')\n",
    "        ax.grid(True)  \n",
    "        plt.show()\n",
    "        \n",
    "    def plot_transformations(self, f, n, T, t1=0, t2=2*np.pi):\n",
    "        transform_values = self.tab_transformation(f, T, n)\n",
    "        reversed_transform_values = [self.reverse_laguerre_transformation(transform_values, t) for t in np.linspace(t1, t2, 1000)]\n",
    "\n",
    "        fig, axs = plt.subplots(2, 1, figsize=(8, 6))\n",
    "\n",
    "        axs[0].bar(range(1, n+1), transform_values, alpha=0.7, edgecolor='black', color='red', linewidth=2)\n",
    "        axs[0].set_xlabel(\"n\")\n",
    "        axs[0].set_ylabel(\"f_n\")\n",
    "        axs[0].set_title(\"Transformation coefs\")\n",
    "        axs[0].set_xticks(range(1, n+1))\n",
    "        axs[0].axhline(0, color='black')\n",
    "        axs[0].grid(True) \n",
    "\n",
    "        axs[1].plot(np.linspace(t1, t2, 1000), reversed_transform_values, alpha=0.7, linewidth=2.0, color='green')\n",
    "        axs[1].set_xlabel(\"t\")\n",
    "        axs[1].set_ylabel(\"f(t)\")\n",
    "        axs[1].set_title(\"Reversed transformation\")\n",
    "        axs[1].grid(True)  \n",
    "\n",
    "        plt.tight_layout()\n",
    "        plt.show()"
   ]
  },
  {
   "cell_type": "code",
   "execution_count": 3,
   "id": "22300b98-6748-4c22-9efd-92181d70a9f9",
   "metadata": {},
   "outputs": [],
   "source": [
    "class TestLaguerre(unittest.TestCase):\n",
    "    def setUp(self):\n",
    "        self.laguerre_instance = Laguerre(beta=1, sigma=5)\n",
    "\n",
    "    def test_laguerre(self):\n",
    "        self.assertAlmostEqual(self.laguerre_instance.laguerre(0, 0), 2.23606797749979)\n",
    "        self.assertAlmostEqual(self.laguerre_instance.laguerre(1, 3), 3.6166500948139766)\n",
    "\n",
    "    def test_tabulate_laguerre(self):\n",
    "        tabulated_values = self.laguerre_instance.tabulate_laguerre(2, 10)\n",
    "        self.assertEqual(len(tabulated_values), 100)\n",
    "        self.assertIsInstance(tabulated_values, pd.DataFrame)\n",
    "\n",
    "    def test_experiment(self):\n",
    "        t, result_df = self.laguerre_instance.experiment(eps=0.03)\n",
    "        self.assertAlmostEqual(t, 189.64000000054145)\n",
    "        self.assertEqual(len(result_df), 20)\n",
    "\n",
    "    def test_laguerre_transformation(self):\n",
    "        def f(t):\n",
    "            if t >= 0 and t <= 2*np.pi:\n",
    "                return np.sin(t-np.pi/2) + 1\n",
    "            else:\n",
    "                return 0\n",
    "        transformation_result = self.laguerre_instance.laguerre_transformation(f, 5, 10)\n",
    "        self.assertAlmostEqual(transformation_result, -7833210664009.94 )\n",
    "\n",
    "    def test_reverse_laguerre_transformation(self):\n",
    "        def f(t):\n",
    "            if t >= 0 and t <= 2*np.pi:\n",
    "                return np.sin(t-np.pi/2) + 1\n",
    "            else:\n",
    "                return 0\n",
    "        coefficients = self.laguerre_instance.tab_transformation(f, 100)\n",
    "        reversed_transformation_result = self.laguerre_instance.reverse_laguerre_transformation(coefficients, 2)\n",
    "        self.assertAlmostEqual(reversed_transformation_result, -78419345421126.88 )\n",
    "        \n",
    "    def test_laguerre_transformation_2(self):\n",
    "        def f(t):\n",
    "            return 2 / (2 + t**8)\n",
    "        \n",
    "        transformation_result = self.laguerre_instance.laguerre_transformation(f, 5, 10)\n",
    "        self.assertAlmostEqual(transformation_result, -32103170464559.6, places=1) "
   ]
  },
  {
   "cell_type": "code",
   "execution_count": 4,
   "id": "03922554-459c-45f1-a6f3-8b63ff601e16",
   "metadata": {
    "tags": []
   },
   "outputs": [
    {
     "name": "stderr",
     "output_type": "stream",
     "text": [
      "......\n",
      "----------------------------------------------------------------------\n",
      "Ran 6 tests in 14.163s\n",
      "\n",
      "OK\n"
     ]
    },
    {
     "data": {
      "text/plain": [
       "<unittest.main.TestProgram at 0x20b45233510>"
      ]
     },
     "execution_count": 4,
     "metadata": {},
     "output_type": "execute_result"
    }
   ],
   "source": [
    "unittest.main(argv=[''], exit=False)"
   ]
  },
  {
   "cell_type": "code",
   "execution_count": 5,
   "id": "6f8b0899-53ac-4155-a4de-1d82e53ccc45",
   "metadata": {},
   "outputs": [
    {
     "data": {
      "application/vnd.jupyter.widget-view+json": {
       "model_id": "e2faed83b63c46e09e3d92dd820dd40b",
       "version_major": 2,
       "version_minor": 0
      },
      "text/plain": [
       "interactive(children=(FloatSlider(value=2.5, description='t', max=5.0), IntSlider(value=5, description='n', ma…"
      ]
     },
     "metadata": {},
     "output_type": "display_data"
    },
    {
     "data": {
      "text/plain": [
       "<function ipywidgets.widgets.interaction._InteractFactory.__call__.<locals>.<lambda>(*args, **kwargs)>"
      ]
     },
     "execution_count": 5,
     "metadata": {},
     "output_type": "execute_result"
    }
   ],
   "source": [
    "lag = Laguerre()\n",
    "\n",
    "widgets.interact(lag.laguerre, t=(0.0, 5.0, 0.1), n=(0, 10, 1))"
   ]
  },
  {
   "cell_type": "code",
   "execution_count": 6,
   "id": "284ba15b-8d64-4980-a77a-cee1604bee53",
   "metadata": {},
   "outputs": [
    {
     "data": {
      "application/vnd.jupyter.widget-view+json": {
       "model_id": "2d3a4e42e9ca40cd85e1928c69e0b130",
       "version_major": 2,
       "version_minor": 0
      },
      "text/plain": [
       "interactive(children=(IntSlider(value=5, description='n', max=10), IntSlider(value=5, description='T', max=10,…"
      ]
     },
     "metadata": {},
     "output_type": "display_data"
    },
    {
     "data": {
      "text/plain": [
       "<function ipywidgets.widgets.interaction._InteractFactory.__call__.<locals>.<lambda>(*args, **kwargs)>"
      ]
     },
     "execution_count": 6,
     "metadata": {},
     "output_type": "execute_result"
    }
   ],
   "source": [
    "widgets.interact(lag.tabulate_laguerre, n=(0, 10, 1), T=(1, 10, 1))"
   ]
  },
  {
   "cell_type": "code",
   "execution_count": 7,
   "id": "1d48cdde-f4a8-4c50-9a6a-96fba6601f63",
   "metadata": {},
   "outputs": [
    {
     "data": {
      "application/vnd.jupyter.widget-view+json": {
       "model_id": "7d5a28c6da8e4b38a5c87a05c71bcaea",
       "version_major": 2,
       "version_minor": 0
      },
      "text/plain": [
       "interactive(children=(FloatSlider(value=0.001, description='eps', max=0.1, step=0.01), Output()), _dom_classes…"
      ]
     },
     "metadata": {},
     "output_type": "display_data"
    },
    {
     "data": {
      "text/plain": [
       "<function ipywidgets.widgets.interaction._InteractFactory.__call__.<locals>.<lambda>(*args, **kwargs)>"
      ]
     },
     "execution_count": 7,
     "metadata": {},
     "output_type": "execute_result"
    }
   ],
   "source": [
    "widgets.interact(lag.experiment, eps=(0, 0.1, 0.01))"
   ]
  },
  {
   "cell_type": "code",
   "execution_count": 8,
   "id": "619ad3a1-cb52-460d-9b3b-0c51c571a54c",
   "metadata": {},
   "outputs": [],
   "source": [
    "def f(t):\n",
    "    if 0 <= t <= 2 * np.pi:\n",
    "        return np.sin(t - np.pi / 2) + 1\n",
    "    elif t > 2 * np.pi:\n",
    "        return 0"
   ]
  },
  {
   "cell_type": "code",
   "execution_count": 9,
   "id": "c8641c8e-9047-4c15-9f3f-512a73557488",
   "metadata": {},
   "outputs": [
    {
     "data": {
      "application/vnd.jupyter.widget-view+json": {
       "model_id": "fcb97c5adef54c5ea72220e95e295ad6",
       "version_major": 2,
       "version_minor": 0
      },
      "text/plain": [
       "interactive(children=(IntSlider(value=50, description='T', min=1), IntSlider(value=20, description='N', max=30…"
      ]
     },
     "metadata": {},
     "output_type": "display_data"
    },
    {
     "data": {
      "text/plain": [
       "<function ipywidgets.widgets.interaction._InteractFactory.__call__.<locals>.<lambda>(*args, **kwargs)>"
      ]
     },
     "execution_count": 9,
     "metadata": {},
     "output_type": "execute_result"
    }
   ],
   "source": [
    "widgets.interact(lag.tab_transformation, f=widgets.fixed(f), T=(1,100,1), N=(1,30,1))"
   ]
  },
  {
   "cell_type": "code",
   "execution_count": 10,
   "id": "bc4738ab-9178-4e1c-81fe-40dfccdd469d",
   "metadata": {},
   "outputs": [
    {
     "data": {
      "application/vnd.jupyter.widget-view+json": {
       "model_id": "1b79f35cdf404a2b8350e139e2d1330e",
       "version_major": 2,
       "version_minor": 0
      },
      "text/plain": [
       "interactive(children=(IntSlider(value=5, description='t', max=10), Output()), _dom_classes=('widget-interact',…"
      ]
     },
     "metadata": {},
     "output_type": "display_data"
    },
    {
     "data": {
      "text/plain": [
       "<function ipywidgets.widgets.interaction._InteractFactory.__call__.<locals>.<lambda>(*args, **kwargs)>"
      ]
     },
     "execution_count": 10,
     "metadata": {},
     "output_type": "execute_result"
    }
   ],
   "source": [
    "lst = lag.tab_transformation(f, 100)\n",
    "widgets.interact(lag.reverse_laguerre_transformation, lst=widgets.fixed(lst), t=(0,10,1))"
   ]
  },
  {
   "cell_type": "code",
   "execution_count": 11,
   "id": "5bbe1a25-135c-443a-9114-581c95fe8c23",
   "metadata": {},
   "outputs": [
    {
     "data": {
      "application/vnd.jupyter.widget-view+json": {
       "model_id": "97282c23891447a1aece46827fe821f3",
       "version_major": 2,
       "version_minor": 0
      },
      "text/plain": [
       "interactive(children=(FloatSlider(value=10.0, description='T', max=20.0, step=0.25), IntSlider(value=15, descr…"
      ]
     },
     "metadata": {},
     "output_type": "display_data"
    },
    {
     "data": {
      "text/plain": [
       "<function ipywidgets.widgets.interaction._InteractFactory.__call__.<locals>.<lambda>(*args, **kwargs)>"
      ]
     },
     "execution_count": 11,
     "metadata": {},
     "output_type": "execute_result"
    }
   ],
   "source": [
    "widgets.interact(lag.plot_laguerre, T=(0.0, 20.0, 0.25), N=(0, 30, 1))"
   ]
  },
  {
   "cell_type": "code",
   "execution_count": 12,
   "id": "c4ddaf07-15fc-46da-a0ec-31347d476795",
   "metadata": {},
   "outputs": [
    {
     "data": {
      "application/vnd.jupyter.widget-view+json": {
       "model_id": "7d785d0cf04349cc944699ad95e583e0",
       "version_major": 2,
       "version_minor": 0
      },
      "text/plain": [
       "interactive(children=(IntSlider(value=15, description='n', max=30), FloatSlider(value=10.0, description='T', m…"
      ]
     },
     "metadata": {},
     "output_type": "display_data"
    },
    {
     "data": {
      "text/plain": [
       "<function ipywidgets.widgets.interaction._InteractFactory.__call__.<locals>.<lambda>(*args, **kwargs)>"
      ]
     },
     "execution_count": 12,
     "metadata": {},
     "output_type": "execute_result"
    }
   ],
   "source": [
    "widgets.interact(lag.plot_transformation, f=widgets.fixed(f), T=(0.0, 20.0, 0.25), n=(0, 30, 1))"
   ]
  },
  {
   "cell_type": "code",
   "execution_count": 13,
   "id": "9e60c97f-a028-4c5a-a344-832ffea9f323",
   "metadata": {
    "tags": []
   },
   "outputs": [
    {
     "data": {
      "application/vnd.jupyter.widget-view+json": {
       "model_id": "6e10d1212a584d73af1f3b7f8fca0778",
       "version_major": 2,
       "version_minor": 0
      },
      "text/plain": [
       "interactive(children=(IntSlider(value=15, description='n', max=30), FloatSlider(value=10.0, description='T', m…"
      ]
     },
     "metadata": {},
     "output_type": "display_data"
    },
    {
     "data": {
      "text/plain": [
       "<function ipywidgets.widgets.interaction._InteractFactory.__call__.<locals>.<lambda>(*args, **kwargs)>"
      ]
     },
     "execution_count": 13,
     "metadata": {},
     "output_type": "execute_result"
    }
   ],
   "source": [
    "widgets.interact(lag.plot_transformations, f=widgets.fixed(f),  T=(0.0, 20.0, 0.25), n=(0, 30, 1), t1=(-5*np.pi, 5*np.pi, np.pi), t2=(-5*np.pi, 5*np.pi, np.pi))"
   ]
  }
 ],
 "metadata": {
  "kernelspec": {
   "display_name": "Python 3 (ipykernel)",
   "language": "python",
   "name": "python3"
  },
  "language_info": {
   "codemirror_mode": {
    "name": "ipython",
    "version": 3
   },
   "file_extension": ".py",
   "mimetype": "text/x-python",
   "name": "python",
   "nbconvert_exporter": "python",
   "pygments_lexer": "ipython3",
   "version": "3.11.4"
  }
 },
 "nbformat": 4,
 "nbformat_minor": 5
}
